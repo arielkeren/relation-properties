{
 "cells": [
  {
   "cell_type": "code",
   "execution_count": null,
   "id": "4c7b025a",
   "metadata": {},
   "outputs": [],
   "source": [
    "import pandas as pd\n",
    "import matplotlib.pyplot as plt\n",
    "import seaborn as sns"
   ]
  },
  {
   "cell_type": "code",
   "execution_count": null,
   "id": "6ace2cc7",
   "metadata": {},
   "outputs": [],
   "source": [
    "df = pd.read_csv(\"../results.csv\")\n",
    "df"
   ]
  },
  {
   "cell_type": "code",
   "execution_count": null,
   "id": "15422993",
   "metadata": {},
   "outputs": [],
   "source": [
    "plt.figure(figsize=(12, 7))\n",
    "\n",
    "for col in df.columns:\n",
    "    if col.endswith(\"_Pct\"):\n",
    "        plt.plot(df[\"Set\"], df[col], label=col.replace(\"_Pct\", \"\"))\n",
    "\n",
    "plt.xlabel(\"Set Size\")\n",
    "plt.ylabel(\"Percentage (%)\")\n",
    "plt.title(\"Property Percentages by Set Size\")\n",
    "plt.legend(loc=\"lower left\")\n",
    "plt.tight_layout()\n",
    "plt.grid(True)\n",
    "plt.show()"
   ]
  },
  {
   "cell_type": "code",
   "execution_count": null,
   "id": "dccc67b5",
   "metadata": {},
   "outputs": [],
   "source": [
    "plt.figure(figsize=(12, 7))\n",
    "\n",
    "for col in df.columns:\n",
    "    if col.endswith(\"_Count\"):\n",
    "        label = col.replace(\"_Count\", \"\")\n",
    "        plt.plot(df[\"Set\"], df[col], label=label)\n",
    "\n",
    "plt.xlabel(\"Set Size\")\n",
    "plt.ylabel(\"Count (log scale)\")\n",
    "plt.title(\"Property Counts by Set Size (Log Scale)\")\n",
    "plt.yscale(\"log\")\n",
    "plt.legend(loc=\"upper left\")\n",
    "plt.tight_layout()\n",
    "plt.grid(True, which=\"both\", ls=\"--\")\n",
    "plt.show()"
   ]
  },
  {
   "cell_type": "code",
   "execution_count": null,
   "id": "0a04078c",
   "metadata": {},
   "outputs": [],
   "source": [
    "plt.figure(figsize=(12, 7))\n",
    "\n",
    "plt.plot(df[\"Set\"], df[\"Time\"], label=\"Time\")\n",
    "\n",
    "plt.xlabel(\"Set Size\")\n",
    "plt.ylabel(\"Time (Seconds)\")\n",
    "plt.title(\"Time to Check by Set Size (Log Scale)\")\n",
    "plt.yscale(\"log\")\n",
    "plt.legend(loc=\"upper left\")\n",
    "plt.tight_layout()\n",
    "plt.grid(True, which=\"both\", ls=\"--\")\n",
    "plt.show()"
   ]
  },
  {
   "cell_type": "code",
   "execution_count": null,
   "id": "81a5ca6d",
   "metadata": {},
   "outputs": [],
   "source": [
    "pct_cols = [col for col in df.columns if col.endswith(\"_Pct\")]\n",
    "heatmap_data = df[pct_cols].copy()\n",
    "heatmap_data.columns = [col.replace(\"_Pct\", \"\") for col in heatmap_data.columns]\n",
    "heatmap_data.index = df[\"Set\"]\n",
    "\n",
    "plt.figure(figsize=(14, 7))\n",
    "sns.heatmap(heatmap_data, annot=False, cmap=\"viridis\")\n",
    "plt.title(\"Heatmap of Property Percentages by Set Size\")\n",
    "plt.xlabel(\"Property\")\n",
    "plt.ylabel(\"Set Size\")\n",
    "plt.tight_layout()\n",
    "plt.show()"
   ]
  },
  {
   "cell_type": "code",
   "execution_count": null,
   "id": "89e0d057",
   "metadata": {},
   "outputs": [],
   "source": [
    "plt.figure(figsize=(12, 7))\n",
    "plt.stackplot(df[\"Set\"], [df[col] for col in pct_cols], labels=[col.replace(\"_Pct\", \"\") for col in pct_cols])\n",
    "plt.xlabel(\"Set Size\")\n",
    "plt.ylabel(\"Cumulative Percentage (%)\")\n",
    "plt.title(\"Stacked Area Plot of Property Percentages\")\n",
    "plt.legend(loc=\"upper right\")\n",
    "plt.tight_layout()\n",
    "plt.show()"
   ]
  },
  {
   "cell_type": "code",
   "execution_count": null,
   "id": "0df30779",
   "metadata": {},
   "outputs": [],
   "source": [
    "for set_size in df[\"Set\"].unique():\n",
    "    row = df[df[\"Set\"] == set_size].iloc[0]\n",
    "    plt.figure(figsize=(12, 7))\n",
    "    plt.bar([col.replace(\"_Pct\", \"\") for col in pct_cols], [row[col] for col in pct_cols])\n",
    "    plt.xticks(rotation=45, ha='right')\n",
    "    plt.ylabel(\"Percentage (%)\")\n",
    "    plt.title(f\"Property Percentages for Set Size {set_size}\")\n",
    "    plt.tight_layout()\n",
    "    plt.show()"
   ]
  },
  {
   "cell_type": "code",
   "execution_count": null,
   "id": "470b78f6",
   "metadata": {},
   "outputs": [],
   "source": [
    "corr = df[pct_cols].corr()\n",
    "corr.index = [col.replace(\"_Pct\", \"\") for col in corr.index]\n",
    "corr.columns = [col.replace(\"_Pct\", \"\") for col in corr.columns]\n",
    "\n",
    "plt.figure(figsize=(10, 8))\n",
    "sns.heatmap(corr, annot=True, cmap=\"coolwarm\")\n",
    "plt.title(\"Correlation Matrix of Property Percentages\")\n",
    "plt.tight_layout()\n",
    "plt.show()"
   ]
  }
 ],
 "metadata": {
  "kernelspec": {
   "display_name": "Python 3",
   "language": "python",
   "name": "python3"
  },
  "language_info": {
   "codemirror_mode": {
    "name": "ipython",
    "version": 3
   },
   "file_extension": ".py",
   "mimetype": "text/x-python",
   "name": "python",
   "nbconvert_exporter": "python",
   "pygments_lexer": "ipython3",
   "version": "3.11.8"
  }
 },
 "nbformat": 4,
 "nbformat_minor": 5
}
